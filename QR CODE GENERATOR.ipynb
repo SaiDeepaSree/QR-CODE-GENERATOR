{
 "cells": [
  {
   "cell_type": "code",
   "execution_count": 2,
   "id": "509e4d2c",
   "metadata": {},
   "outputs": [
    {
     "name": "stdout",
     "output_type": "stream",
     "text": [
      "Collecting qrcode\n",
      "  Downloading qrcode-7.4.2-py3-none-any.whl (46 kB)\n",
      "\u001b[K     |████████████████████████████████| 46 kB 518 kB/s eta 0:00:01\n",
      "\u001b[?25hCollecting pypng\n",
      "  Downloading pypng-0.20220715.0-py3-none-any.whl (58 kB)\n",
      "\u001b[K     |████████████████████████████████| 58 kB 871 kB/s eta 0:00:01\n",
      "\u001b[?25hCollecting typing-extensions\n",
      "  Downloading typing_extensions-4.4.0-py3-none-any.whl (26 kB)\n",
      "Installing collected packages: pypng, typing-extensions, qrcode\n",
      "Successfully installed pypng-0.20220715.0 qrcode-7.4.2 typing-extensions-4.4.0\n",
      "Note: you may need to restart the kernel to use updated packages.\n"
     ]
    }
   ],
   "source": [
    "pip install qrcode"
   ]
  },
  {
   "cell_type": "code",
   "execution_count": 8,
   "id": "b48b67f4",
   "metadata": {},
   "outputs": [
    {
     "name": "stdout",
     "output_type": "stream",
     "text": [
      "[b'https://www.google.com/']\n"
     ]
    }
   ],
   "source": [
    "import qrcode\n",
    "\n",
    "# Enter url of any website here\n",
    "input_URL = \"https://www.google.com/\"\n",
    "\n",
    "qr = qrcode.QRCode(\n",
    "    version = 1,\n",
    "    error_correction = qrcode.constants.ERROR_CORRECT_L,\n",
    "    box_size = 15,\n",
    "    border = 4,\n",
    ")\n",
    "\n",
    "qr.add_data(input_URL)\n",
    "qr.make(fit = True)\n",
    "\n",
    "# convert into image\n",
    "img = qr.make_image(fill_color = \"white\", back_color = \"black\")\n",
    "img.save(\"url_qrcode.png\")\n",
    "\n",
    "print(qr.data_list)"
   ]
  },
  {
   "cell_type": "code",
   "execution_count": null,
   "id": "209e06ef",
   "metadata": {},
   "outputs": [],
   "source": []
  }
 ],
 "metadata": {
  "kernelspec": {
   "display_name": "Python 3",
   "language": "python",
   "name": "python3"
  },
  "language_info": {
   "codemirror_mode": {
    "name": "ipython",
    "version": 3
   },
   "file_extension": ".py",
   "mimetype": "text/x-python",
   "name": "python",
   "nbconvert_exporter": "python",
   "pygments_lexer": "ipython3",
   "version": "3.8.5"
  }
 },
 "nbformat": 4,
 "nbformat_minor": 5
}
